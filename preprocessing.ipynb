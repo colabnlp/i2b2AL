{
 "cells": [
  {
   "cell_type": "code",
   "execution_count": 8,
   "metadata": {},
   "outputs": [],
   "source": [
    "#trying out medical embeddings\n",
    "from gensim.models import KeyedVectors\n",
    "filename = 'wikipedia-pubmed-and-PMC-w2v.bin'\n",
    "model = KeyedVectors.load_word2vec_format(filename, binary=True)"
   ]
  },
  {
   "cell_type": "code",
   "execution_count": 14,
   "metadata": {},
   "outputs": [],
   "source": [
    "import os\n",
    "import io\n",
    "from nltk.corpus import stopwords\n",
    "from nltk.tokenize import word_tokenize\n",
    "\n",
    "osPath = os.path.abspath(\"Tokenizer.ipynb\")\n",
    "path = 'concept_assertion_relation_training_data/beth/txt/'\n",
    "files = os.listdir(path)"
   ]
  },
  {
   "cell_type": "code",
   "execution_count": 17,
   "metadata": {},
   "outputs": [],
   "source": [
    "stop_words = set(stopwords.words('english'))\n",
    "\n",
    "goods = []\n",
    "bads = []\n",
    "for file in files:\n",
    "    #filter\n",
    "    if not 'record-' in file:\n",
    "        continue\n",
    "    fpath = path+file\n",
    "    with open(fpath) as iFile:\n",
    "        for line in iFile:\n",
    "            words = line.split()\n",
    "            for w in words: \n",
    "                if not w in stop_words: \n",
    "                    if w in model:\n",
    "                        goods.append(w)\n",
    "                    else:\n",
    "                        bads.append(w)"
   ]
  },
  {
   "cell_type": "code",
   "execution_count": 22,
   "metadata": {},
   "outputs": [
    {
     "data": {
      "text/plain": [
       "(67593, 2392, 28.25794314381271)"
      ]
     },
     "execution_count": 22,
     "metadata": {},
     "output_type": "execute_result"
    }
   ],
   "source": [
    "len(goods),len(bads),len(goods)/len(bads)"
   ]
  },
  {
   "cell_type": "code",
   "execution_count": 9,
   "metadata": {},
   "outputs": [],
   "source": [
    "import os\n",
    "tpath='concept_assertion_relation_training_data/beth/txt/'\n",
    "cpath='concept_assertion_relation_training_data/beth/concept/'"
   ]
  },
  {
   "cell_type": "code",
   "execution_count": 24,
   "metadata": {},
   "outputs": [],
   "source": [
    "tlist = [ f.split('.')[0] for f in os.listdir(tpath) if len(f.split('.')[0])>0 ]"
   ]
  },
  {
   "cell_type": "code",
   "execution_count": 106,
   "metadata": {},
   "outputs": [],
   "source": [
    "#init\n",
    "allrec = {}\n",
    "for fname in tlist:\n",
    "    f=open(tpath+fname+'.txt')\n",
    "    rec = []\n",
    "    for l in f:\n",
    "        line = []\n",
    "        for w in l.split():\n",
    "            line.append([w.lower(),'o'])\n",
    "        rec.append(line)\n",
    "    allrec[fname] = rec"
   ]
  },
  {
   "cell_type": "code",
   "execution_count": 107,
   "metadata": {},
   "outputs": [],
   "source": [
    "import re\n",
    "for fname in tlist:\n",
    "    f = open(cpath+fname+'.con')\n",
    "    for i,l in enumerate(f):\n",
    "        p = l.split('||')[0].split('\"')[-1].strip()\n",
    "        no = int(p.split()[0].split(':')[0])-1\n",
    "        s = int(p.split()[0].split(':')[1])\n",
    "        e = int(p.split()[1].split(':')[1])\n",
    "        try:    \n",
    "            allrec[fname][no][s][1] = 'b'\n",
    "            if s==e:\n",
    "                continue\n",
    "            for j in (s+1,e):\n",
    "                allrec[fname][no][j][1] = 'i'\n",
    "        except IndexError:\n",
    "            print(fname,no,allrec[fname][no],s,e)\n",
    "            break"
   ]
  },
  {
   "cell_type": "code",
   "execution_count": 114,
   "metadata": {},
   "outputs": [
    {
     "name": "stdout",
     "output_type": "stream",
     "text": [
      "1 [['admission', 'o'], ['date', 'o'], [':', 'o']] \n",
      "\n",
      "2 [['2016-08-08', 'o']] \n",
      "\n",
      "3 [['discharge', 'o'], ['date', 'o'], [':', 'o']] \n",
      "\n",
      "4 [['2016-08-15', 'o']] \n",
      "\n",
      "5 [['date', 'o'], ['of', 'o'], ['birth', 'o'], [':', 'o']] \n",
      "\n",
      "6 [['1978-08-02', 'o']] \n",
      "\n",
      "7 [['sex', 'o'], [':', 'o']] \n",
      "\n",
      "8 [['f', 'o']] \n",
      "\n",
      "9 [['service:', 'o']] \n",
      "\n",
      "10 [['procedure', 'o'], [':', 'o']] \n",
      "\n",
      "11 [['cadaveric', 'b'], ['pancreas', 'i'], ['transplantation', 'i'], ['.', 'o']] \n",
      "\n",
      "12 [['history', 'o'], ['of', 'o'], ['present', 'o'], ['illness', 'o'], [':', 'o']] \n",
      "\n",
      "13 [['the', 'o'], ['patient', 'o'], ['is', 'o'], ['a', 'o'], ['37', 'o'], ['year', 'o'], ['old', 'o'], ['lady', 'o'], ['with', 'o'], ['type', 'b'], ['1', 'i'], ['diabetes', 'o'], ['mellitus', 'i'], [',', 'o'], ['who', 'o'], ['is', 'o'], ['four', 'o'], ['months', 'o'], ['postcadaveric', 'b'], ['kidney', 'i'], ['transplantation', 'i'], ['and', 'o'], ['now', 'o'], ['has', 'o'], ['good', 'o'], ['graft', 'o'], ['function', 'o'], ['.', 'o']] \n",
      "\n",
      "14 [['she', 'o'], ['presents', 'o'], ['for', 'o'], ['cadaveric', 'b'], ['pancreas', 'i'], ['transplantation', 'i'], ['.', 'o']] \n",
      "\n",
      "15 [['her', 'b'], ['diabetes', 'i'], ['mellitus', 'i'], ['has', 'o'], ['been', 'o'], ['complicated', 'o'], ['by', 'o'], ['retinopathy', 'b'], ['and', 'o'], ['nephropathy', 'b'], ['as', 'o'], ['well', 'o'], ['as', 'o'], ['peripheral', 'b'], ['neuropathy', 'i'], ['.', 'o']] \n",
      "\n",
      "16 [['she', 'o'], ['takes', 'o'], ['14', 'o'], ['units', 'o'], ['of', 'o'], ['nph', 'b'], ['insulin', 'i'], ['twice', 'o'], ['a', 'o'], ['day', 'o'], ['supplementing', 'o'], ['with', 'o'], ['a', 'b'], ['sliding', 'i'], ['scale', 'i'], ['.', 'o']] \n",
      "\n",
      "17 [['physical', 'o'], ['examination', 'o'], [':', 'o']] \n",
      "\n",
      "18 [['on', 'o'], ['examination', 'b'], [',', 'o'], ['she', 'o'], ['is', 'o'], ['in', 'o'], ['no', 'o'], ['apparent', 'b'], ['distress', 'i'], ['and', 'o'], ['is', 'o'], ['alert', 'o'], ['and', 'o'], ['oriented', 'o'], ['.', 'o']] \n",
      "\n",
      "19 [['her', 'b'], ['chest', 'i'], ['and', 'o'], ['cardiovascular', 'o'], ['examinations', 'i'], ['are', 'o'], ['unremarkable', 'o'], ['.', 'o']] \n",
      "\n",
      "20 [['she', 'o'], ['is', 'o'], ['afebrile', 'b'], ['with', 'o'], ['stable', 'o'], ['vital', 'o'], ['signs', 'o'], ['.', 'o']] \n",
      "\n",
      "21 [['her', 'o'], ['abdomen', 'o'], ['is', 'o'], ['soft', 'o'], ['and', 'o'], ['nontender', 'b'], ['with', 'o'], ['a', 'b'], ['well', 'i'], ['healed', 'o'], ['left', 'o'], ['lower', 'o'], ['quadrant', 'o'], ['incision', 'i'], ['from', 'o'], ['her', 'b'], ['kidney', 'i'], ['transplantation', 'i'], ['.', 'o']] \n",
      "\n",
      "22 [['she', 'o'], ['has', 'o'], ['good', 'o'], ['femoral', 'o'], ['pulses', 'o'], ['bilaterally', 'o'], ['.', 'o']] \n",
      "\n",
      "23 [['hospital', 'o'], ['course', 'o'], [':', 'o']] \n",
      "\n",
      "24 [['she', 'o'], ['underwent', 'o'], ['cadaveric', 'b'], ['pancreas', 'i'], ['transplantation', 'i'], ['without', 'o'], ['complication', 'b'], ['.', 'o']] \n",
      "\n",
      "25 [['she', 'o'], ['received', 'o'], ['induction', 'b'], ['therapy', 'i'], ['with', 'o'], ['thymoglobulin', 'b'], ['intraoperative', 'o'], ['and', 'o'], ['postoperatively', 'o'], ['for', 'o'], ['five', 'o'], ['days', 'o'], ['.', 'o']] \n",
      "\n",
      "26 [['she', 'o'], ['was', 'o'], ['kept', 'o'], ['on', 'o'], ['a', 'b'], ['similar', 'i'], ['immunosuppressive', 'o'], ['regimen', 'i'], ['as', 'o'], ['with', 'o'], ['her', 'b'], ['kidney', 'i'], ['transplant', 'i'], ['.', 'o']] \n",
      "\n",
      "27 [['she', 'o'], ['had', 'o'], ['excellent', 'o'], ['pancreas', 'o'], ['graft', 'o'], ['function', 'o'], ['immediately', 'o'], ['.', 'o']] \n",
      "\n",
      "28 [['her', 'o'], ['renal', 'o'], ['function', 'o'], ['also', 'o'], ['remained', 'o'], ['stable', 'o'], ['in', 'o'], ['the', 'o'], ['perioperative', 'o'], ['period', 'o'], ['.', 'o']] \n",
      "\n",
      "29 [['she', 'o'], ['was', 'o'], ['quickly', 'o'], ['placed', 'o'], ['on', 'o'], ['a', 'o'], ['diet', 'o'], ['and', 'o'], ['advanced', 'o'], ['to', 'o'], ['regular', 'o'], ['diet', 'o'], ['.', 'o']] \n",
      "\n",
      "30 [['she', 'o'], ['was', 'o'], ['discharged', 'o'], ['home', 'o'], ['in', 'o'], ['stable', 'o'], ['condition', 'o'], ['on', 'o'], ['postoperative', 'o'], ['day', 'o'], ['six', 'o'], ['.', 'o']] \n",
      "\n",
      "31 [['condition', 'o'], ['on', 'o'], ['discharge', 'o'], [':', 'o']] \n",
      "\n",
      "32 [['stable', 'o'], ['.', 'o']] \n",
      "\n",
      "33 [['discharge', 'o'], ['instructions', 'o'], [':', 'o']] \n",
      "\n",
      "34 [['she', 'o'], ['will', 'o'], ['begin', 'o'], ['weekly', 'o'], ['follow-up', 'o'], ['in', 'o'], ['the', 'o'], ['transplant', 'o'], ['center', 'o'], ['.', 'o']] \n",
      "\n",
      "35 [['she', 'o'], ['is', 'o'], ['to', 'o'], ['not', 'o'], ['lift', 'o'], ['anything', 'o'], ['greater', 'o'], ['than', 'o'], ['ten', 'o'], ['pounds', 'o'], ['for', 'o'], ['six', 'o'], ['weeks', 'o'], ['.', 'o']] \n",
      "\n",
      "36 [['she', 'o'], ['is', 'o'], ['to', 'o'], ['continue', 'o'], ['monitoring', 'o'], ['her', 'b'], ['blood', 'i'], ['sugar', 'i'], ['twice', 'o'], ['a', 'o'], ['day', 'o'], ['.', 'o']] \n",
      "\n",
      "37 [['she', 'o'], ['has', 'o'], ['undergone', 'o'], ['full', 'o'], ['teaching', 'o'], ['in', 'o'], ['regards', 'o'], ['to', 'o'], ['immunosuppressant', 'b'], ['medications', 'i'], ['.', 'o']] \n",
      "\n",
      "38 [['in', 'o'], ['addition', 'o'], [',', 'o'], ['she', 'o'], ['will', 'o'], ['take', 'o'], ['valganciclovir', 'b'], ['for', 'o'], ['three', 'o'], ['months', 'o'], ['posttransplant', 'o'], ['.', 'o']] \n",
      "\n",
      "39 [['discharge', 'o'], ['diagnoses', 'o'], [':', 'o']] \n",
      "\n",
      "40 [['1.', 'o'], ['status', 'o'], ['post', 'o'], ['cadaveric', 'b'], ['pancreas', 'i'], ['transplant', 'i'], ['.', 'o']] \n",
      "\n",
      "41 [['2.', 'o'], ['type', 'b'], ['1', 'i'], ['diabetes', 'o'], ['mellitus', 'i'], ['.', 'o']] \n",
      "\n",
      "42 [['3.', 'o'], ['end', 'b'], ['stage', 'i'], ['renal', 'o'], ['disease', 'i'], [',', 'o'], ['status', 'o'], ['post', 'o'], ['kidney', 'b'], ['transplantation', 'i'], ['.', 'o']] \n",
      "\n",
      "43 [['dictated', 'o'], ['by', 'o'], [':', 'o'], ['jon', 'o'], ['o', 'o'], ['shappy', 'o'], [',', 'o'], ['m.d.', 'o']] \n",
      "\n",
      "44 [['medquist36', 'o']] \n",
      "\n",
      "45 [['d', 'o'], [':', 'o'], ['2016-11-10', 'o'], ['18:28', 'o']] \n",
      "\n",
      "46 [['t', 'o'], [':', 'o'], ['2016-11-12', 'o'], ['11:51', 'o']] \n",
      "\n",
      "47 [['job', 'o'], ['#', 'o'], [':', 'o'], ['63429', 'o']] \n",
      "\n",
      "48 [['signed', 'o'], ['electronically', 'o'], ['by', 'o'], [':', 'o'], ['dr.', 'o'], ['jacob', 'o'], ['butler', 'o'], ['on', 'o'], [':', 'o'], ['wed', 'o'], ['2016-11-16', 'o'], ['7:45', 'o'], ['am', 'o']] \n",
      "\n",
      "49 [['(', 'o'], ['end', 'o'], ['of', 'o'], ['report', 'o'], [')', 'o']] \n",
      "\n"
     ]
    }
   ],
   "source": [
    "for i,line in enumerate(allrec['record-176']):\n",
    "    print(i+1,line,'\\n')"
   ]
  },
  {
   "cell_type": "code",
   "execution_count": null,
   "metadata": {},
   "outputs": [],
   "source": []
  }
 ],
 "metadata": {
  "kernelspec": {
   "display_name": "Python 3",
   "language": "python",
   "name": "python3"
  },
  "language_info": {
   "codemirror_mode": {
    "name": "ipython",
    "version": 3
   },
   "file_extension": ".py",
   "mimetype": "text/x-python",
   "name": "python",
   "nbconvert_exporter": "python",
   "pygments_lexer": "ipython3",
   "version": "3.7.2"
  }
 },
 "nbformat": 4,
 "nbformat_minor": 2
}
