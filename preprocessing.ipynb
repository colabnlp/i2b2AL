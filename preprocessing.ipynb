{
 "cells": [
  {
   "cell_type": "code",
   "execution_count": 41,
   "metadata": {},
   "outputs": [],
   "source": [
    "#trying out medical embeddings\n",
    "from gensim.models import KeyedVectors\n",
    "filename = 'wikipedia-pubmed-and-PMC-w2v.bin'\n",
    "model = KeyedVectors.load_word2vec_format(filename, binary=True)"
   ]
  },
  {
   "cell_type": "code",
   "execution_count": 14,
   "metadata": {},
   "outputs": [],
   "source": [
    "import os\n",
    "import io\n",
    "from nltk.corpus import stopwords\n",
    "from nltk.tokenize import word_tokenize\n",
    "\n",
    "osPath = os.path.abspath(\"Tokenizer.ipynb\")\n",
    "path = 'concept_assertion_relation_training_data/beth/txt/'\n",
    "files = os.listdir(path)"
   ]
  },
  {
   "cell_type": "code",
   "execution_count": 17,
   "metadata": {},
   "outputs": [],
   "source": [
    "stop_words = set(stopwords.words('english'))\n",
    "\n",
    "goods = []\n",
    "bads = []\n",
    "for file in files:\n",
    "    #filter\n",
    "    if not 'record-' in file:\n",
    "        continue\n",
    "    fpath = path+file\n",
    "    with open(fpath) as iFile:\n",
    "        for line in iFile:\n",
    "            words = line.split()\n",
    "            for w in words: \n",
    "                if not w in stop_words: \n",
    "                    if w in model:\n",
    "                        goods.append(w)\n",
    "                    else:\n",
    "                        bads.append(w)"
   ]
  },
  {
   "cell_type": "code",
   "execution_count": 22,
   "metadata": {},
   "outputs": [
    {
     "data": {
      "text/plain": [
       "(67593, 2392, 28.25794314381271)"
      ]
     },
     "execution_count": 22,
     "metadata": {},
     "output_type": "execute_result"
    }
   ],
   "source": [
    "len(goods),len(bads),len(goods)/len(bads)"
   ]
  },
  {
   "cell_type": "code",
   "execution_count": 42,
   "metadata": {},
   "outputs": [],
   "source": [
    "import os\n",
    "tpath='concept_assertion_relation_training_data/beth/txt/'\n",
    "cpath='concept_assertion_relation_training_data/beth/concept/'"
   ]
  },
  {
   "cell_type": "code",
   "execution_count": 43,
   "metadata": {},
   "outputs": [],
   "source": [
    "tlist = [ f.split('.')[0] for f in os.listdir(tpath) if len(f.split('.')[0])>0 ]"
   ]
  },
  {
   "cell_type": "code",
   "execution_count": 44,
   "metadata": {},
   "outputs": [],
   "source": [
    "#init\n",
    "allrec = {}\n",
    "for fname in tlist:\n",
    "    f=open(tpath+fname+'.txt')\n",
    "    rec = []\n",
    "    for l in f:\n",
    "        line = []\n",
    "        for w in l.split():\n",
    "            line.append([w.lower(),'O'])\n",
    "        rec.append(line)\n",
    "    allrec[fname] = rec"
   ]
  },
  {
   "cell_type": "code",
   "execution_count": 45,
   "metadata": {},
   "outputs": [],
   "source": [
    "import re\n",
    "for fname in tlist:\n",
    "    f = open(cpath+fname+'.con')\n",
    "    for i,l in enumerate(f):\n",
    "        p = l.split('||')[0].split('\"')[-1].strip()\n",
    "        no = int(p.split()[0].split(':')[0])-1\n",
    "        s = int(p.split()[0].split(':')[1])\n",
    "        e = int(p.split()[1].split(':')[1])\n",
    "        try:    \n",
    "            for j in range(s,e+1):\n",
    "                if s==j:\n",
    "                    allrec[fname][no][j][1] = 'B'\n",
    "                else:\n",
    "                    allrec[fname][no][j][1] = 'I'\n",
    "        except IndexError:\n",
    "            print(fname,no,allrec[fname][no],s,e)\n",
    "            break"
   ]
  },
  {
   "cell_type": "code",
   "execution_count": 47,
   "metadata": {},
   "outputs": [
    {
     "name": "stdout",
     "output_type": "stream",
     "text": [
      "1 [['admission', 'O'], ['date', 'O'], [':', 'O']] \n",
      "\n",
      "2 [['2016-08-08', 'O']] \n",
      "\n",
      "3 [['discharge', 'O'], ['date', 'O'], [':', 'O']] \n",
      "\n",
      "4 [['2016-08-15', 'O']] \n",
      "\n",
      "5 [['date', 'O'], ['of', 'O'], ['birth', 'O'], [':', 'O']] \n",
      "\n",
      "6 [['1978-08-02', 'O']] \n",
      "\n",
      "7 [['sex', 'O'], [':', 'O']] \n",
      "\n",
      "8 [['f', 'O']] \n",
      "\n",
      "9 [['service:', 'O']] \n",
      "\n",
      "10 [['procedure', 'O'], [':', 'O']] \n",
      "\n",
      "11 [['cadaveric', 'B'], ['pancreas', 'I'], ['transplantation', 'I'], ['.', 'O']] \n",
      "\n",
      "12 [['history', 'O'], ['of', 'O'], ['present', 'O'], ['illness', 'O'], [':', 'O']] \n",
      "\n",
      "13 [['the', 'O'], ['patient', 'O'], ['is', 'O'], ['a', 'O'], ['37', 'O'], ['year', 'O'], ['old', 'O'], ['lady', 'O'], ['with', 'O'], ['type', 'B'], ['1', 'I'], ['diabetes', 'I'], ['mellitus', 'I'], [',', 'O'], ['who', 'O'], ['is', 'O'], ['four', 'O'], ['months', 'O'], ['postcadaveric', 'B'], ['kidney', 'I'], ['transplantation', 'I'], ['and', 'O'], ['now', 'O'], ['has', 'O'], ['good', 'O'], ['graft', 'O'], ['function', 'O'], ['.', 'O']] \n",
      "\n",
      "14 [['she', 'O'], ['presents', 'O'], ['for', 'O'], ['cadaveric', 'B'], ['pancreas', 'I'], ['transplantation', 'I'], ['.', 'O']] \n",
      "\n",
      "15 [['her', 'B'], ['diabetes', 'I'], ['mellitus', 'I'], ['has', 'O'], ['been', 'O'], ['complicated', 'O'], ['by', 'O'], ['retinopathy', 'B'], ['and', 'O'], ['nephropathy', 'B'], ['as', 'O'], ['well', 'O'], ['as', 'O'], ['peripheral', 'B'], ['neuropathy', 'I'], ['.', 'O']] \n",
      "\n",
      "16 [['she', 'O'], ['takes', 'O'], ['14', 'O'], ['units', 'O'], ['of', 'O'], ['nph', 'B'], ['insulin', 'I'], ['twice', 'O'], ['a', 'O'], ['day', 'O'], ['supplementing', 'O'], ['with', 'O'], ['a', 'B'], ['sliding', 'I'], ['scale', 'I'], ['.', 'O']] \n",
      "\n",
      "17 [['physical', 'O'], ['examination', 'O'], [':', 'O']] \n",
      "\n",
      "18 [['on', 'O'], ['examination', 'B'], [',', 'O'], ['she', 'O'], ['is', 'O'], ['in', 'O'], ['no', 'O'], ['apparent', 'B'], ['distress', 'I'], ['and', 'O'], ['is', 'O'], ['alert', 'O'], ['and', 'O'], ['oriented', 'O'], ['.', 'O']] \n",
      "\n",
      "19 [['her', 'B'], ['chest', 'I'], ['and', 'I'], ['cardiovascular', 'I'], ['examinations', 'I'], ['are', 'O'], ['unremarkable', 'O'], ['.', 'O']] \n",
      "\n",
      "20 [['she', 'O'], ['is', 'O'], ['afebrile', 'B'], ['with', 'O'], ['stable', 'O'], ['vital', 'O'], ['signs', 'O'], ['.', 'O']] \n",
      "\n",
      "21 [['her', 'O'], ['abdomen', 'O'], ['is', 'O'], ['soft', 'O'], ['and', 'O'], ['nontender', 'B'], ['with', 'O'], ['a', 'B'], ['well', 'I'], ['healed', 'I'], ['left', 'I'], ['lower', 'I'], ['quadrant', 'I'], ['incision', 'I'], ['from', 'O'], ['her', 'B'], ['kidney', 'I'], ['transplantation', 'I'], ['.', 'O']] \n",
      "\n",
      "22 [['she', 'O'], ['has', 'O'], ['good', 'O'], ['femoral', 'O'], ['pulses', 'O'], ['bilaterally', 'O'], ['.', 'O']] \n",
      "\n",
      "23 [['hospital', 'O'], ['course', 'O'], [':', 'O']] \n",
      "\n",
      "24 [['she', 'O'], ['underwent', 'O'], ['cadaveric', 'B'], ['pancreas', 'I'], ['transplantation', 'I'], ['without', 'O'], ['complication', 'B'], ['.', 'O']] \n",
      "\n",
      "25 [['she', 'O'], ['received', 'O'], ['induction', 'B'], ['therapy', 'I'], ['with', 'O'], ['thymoglobulin', 'B'], ['intraoperative', 'O'], ['and', 'O'], ['postoperatively', 'O'], ['for', 'O'], ['five', 'O'], ['days', 'O'], ['.', 'O']] \n",
      "\n",
      "26 [['she', 'O'], ['was', 'O'], ['kept', 'O'], ['on', 'O'], ['a', 'B'], ['similar', 'I'], ['immunosuppressive', 'I'], ['regimen', 'I'], ['as', 'O'], ['with', 'O'], ['her', 'B'], ['kidney', 'I'], ['transplant', 'I'], ['.', 'O']] \n",
      "\n",
      "27 [['she', 'O'], ['had', 'O'], ['excellent', 'O'], ['pancreas', 'O'], ['graft', 'O'], ['function', 'O'], ['immediately', 'O'], ['.', 'O']] \n",
      "\n",
      "28 [['her', 'O'], ['renal', 'O'], ['function', 'O'], ['also', 'O'], ['remained', 'O'], ['stable', 'O'], ['in', 'O'], ['the', 'O'], ['perioperative', 'O'], ['period', 'O'], ['.', 'O']] \n",
      "\n",
      "29 [['she', 'O'], ['was', 'O'], ['quickly', 'O'], ['placed', 'O'], ['on', 'O'], ['a', 'O'], ['diet', 'O'], ['and', 'O'], ['advanced', 'O'], ['to', 'O'], ['regular', 'O'], ['diet', 'O'], ['.', 'O']] \n",
      "\n",
      "30 [['she', 'O'], ['was', 'O'], ['discharged', 'O'], ['home', 'O'], ['in', 'O'], ['stable', 'O'], ['condition', 'O'], ['on', 'O'], ['postoperative', 'O'], ['day', 'O'], ['six', 'O'], ['.', 'O']] \n",
      "\n",
      "31 [['condition', 'O'], ['on', 'O'], ['discharge', 'O'], [':', 'O']] \n",
      "\n",
      "32 [['stable', 'O'], ['.', 'O']] \n",
      "\n",
      "33 [['discharge', 'O'], ['instructions', 'O'], [':', 'O']] \n",
      "\n",
      "34 [['she', 'O'], ['will', 'O'], ['begin', 'O'], ['weekly', 'O'], ['follow-up', 'O'], ['in', 'O'], ['the', 'O'], ['transplant', 'O'], ['center', 'O'], ['.', 'O']] \n",
      "\n",
      "35 [['she', 'O'], ['is', 'O'], ['to', 'O'], ['not', 'O'], ['lift', 'O'], ['anything', 'O'], ['greater', 'O'], ['than', 'O'], ['ten', 'O'], ['pounds', 'O'], ['for', 'O'], ['six', 'O'], ['weeks', 'O'], ['.', 'O']] \n",
      "\n",
      "36 [['she', 'O'], ['is', 'O'], ['to', 'O'], ['continue', 'O'], ['monitoring', 'O'], ['her', 'B'], ['blood', 'I'], ['sugar', 'I'], ['twice', 'O'], ['a', 'O'], ['day', 'O'], ['.', 'O']] \n",
      "\n",
      "37 [['she', 'O'], ['has', 'O'], ['undergone', 'O'], ['full', 'O'], ['teaching', 'O'], ['in', 'O'], ['regards', 'O'], ['to', 'O'], ['immunosuppressant', 'B'], ['medications', 'I'], ['.', 'O']] \n",
      "\n",
      "38 [['in', 'O'], ['addition', 'O'], [',', 'O'], ['she', 'O'], ['will', 'O'], ['take', 'O'], ['valganciclovir', 'B'], ['for', 'O'], ['three', 'O'], ['months', 'O'], ['posttransplant', 'O'], ['.', 'O']] \n",
      "\n",
      "39 [['discharge', 'O'], ['diagnoses', 'O'], [':', 'O']] \n",
      "\n",
      "40 [['1.', 'O'], ['status', 'O'], ['post', 'O'], ['cadaveric', 'B'], ['pancreas', 'I'], ['transplant', 'I'], ['.', 'O']] \n",
      "\n",
      "41 [['2.', 'O'], ['type', 'B'], ['1', 'I'], ['diabetes', 'I'], ['mellitus', 'I'], ['.', 'O']] \n",
      "\n",
      "42 [['3.', 'O'], ['end', 'B'], ['stage', 'I'], ['renal', 'I'], ['disease', 'I'], [',', 'O'], ['status', 'O'], ['post', 'O'], ['kidney', 'B'], ['transplantation', 'I'], ['.', 'O']] \n",
      "\n",
      "43 [['dictated', 'O'], ['by', 'O'], [':', 'O'], ['jon', 'O'], ['o', 'O'], ['shappy', 'O'], [',', 'O'], ['m.d.', 'O']] \n",
      "\n",
      "44 [['medquist36', 'O']] \n",
      "\n",
      "45 [['d', 'O'], [':', 'O'], ['2016-11-10', 'O'], ['18:28', 'O']] \n",
      "\n",
      "46 [['t', 'O'], [':', 'O'], ['2016-11-12', 'O'], ['11:51', 'O']] \n",
      "\n",
      "47 [['job', 'O'], ['#', 'O'], [':', 'O'], ['63429', 'O']] \n",
      "\n",
      "48 [['signed', 'O'], ['electronically', 'O'], ['by', 'O'], [':', 'O'], ['dr.', 'O'], ['jacob', 'O'], ['butler', 'O'], ['on', 'O'], [':', 'O'], ['wed', 'O'], ['2016-11-16', 'O'], ['7:45', 'O'], ['am', 'O']] \n",
      "\n",
      "49 [['(', 'O'], ['end', 'O'], ['of', 'O'], ['report', 'O'], [')', 'O']] \n",
      "\n"
     ]
    }
   ],
   "source": [
    "for i,line in enumerate(allrec['record-176']):\n",
    "    print(i+1,line,'\\n')"
   ]
  },
  {
   "cell_type": "code",
   "execution_count": 54,
   "metadata": {},
   "outputs": [],
   "source": [
    "allre = allrec.copy()\n",
    "for rk in allrec.keys():\n",
    "    for i,line in enumerate(allrec[rk]):\n",
    "        for j,word in enumerate(line):\n",
    "            if word[0] not in model:\n",
    "                del allre[rk][i][j]"
   ]
  },
  {
   "cell_type": "code",
   "execution_count": 55,
   "metadata": {},
   "outputs": [],
   "source": [
    "allrec = allre\n",
    "for rk in allrec.keys():\n",
    "    for i,line in enumerate(allrec[rk]):\n",
    "        for j,word in enumerate(line):\n",
    "            if word[0] not in model:\n",
    "                print(word)"
   ]
  },
  {
   "cell_type": "code",
   "execution_count": 63,
   "metadata": {},
   "outputs": [],
   "source": [
    "recs = []\n",
    "for rk in allrec.keys():\n",
    "    for i,line in enumerate(allrec[rk]):\n",
    "        li = []\n",
    "        tag = []\n",
    "        for j,word in enumerate(line):\n",
    "            li.append(word[0])\n",
    "            tag.append(word[1])\n",
    "        recs.append((li,tag))\n",
    "allrec = recs"
   ]
  },
  {
   "cell_type": "code",
   "execution_count": 64,
   "metadata": {},
   "outputs": [],
   "source": [
    "import pickle\n",
    "file = open('dat.pkl', 'wb')\n",
    "pickle.dump(allrec, file)\n",
    "file.close()"
   ]
  },
  {
   "cell_type": "code",
   "execution_count": null,
   "metadata": {},
   "outputs": [],
   "source": []
  }
 ],
 "metadata": {
  "kernelspec": {
   "display_name": "Python 3",
   "language": "python",
   "name": "python3"
  },
  "language_info": {
   "codemirror_mode": {
    "name": "ipython",
    "version": 3
   },
   "file_extension": ".py",
   "mimetype": "text/x-python",
   "name": "python",
   "nbconvert_exporter": "python",
   "pygments_lexer": "ipython3",
   "version": "3.7.2"
  }
 },
 "nbformat": 4,
 "nbformat_minor": 2
}
