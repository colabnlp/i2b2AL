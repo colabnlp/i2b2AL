{
 "cells": [
  {
   "cell_type": "code",
   "execution_count": 8,
   "metadata": {},
   "outputs": [],
   "source": [
    "#trying out medical embeddings\n",
    "from gensim.models import KeyedVectors\n",
    "filename = 'wikipedia-pubmed-and-PMC-w2v.bin'\n",
    "model = KeyedVectors.load_word2vec_format(filename, binary=True)"
   ]
  },
  {
   "cell_type": "code",
   "execution_count": 14,
   "metadata": {},
   "outputs": [],
   "source": [
    "import os\n",
    "import io\n",
    "from nltk.corpus import stopwords\n",
    "from nltk.tokenize import word_tokenize\n",
    "\n",
    "osPath = os.path.abspath(\"Tokenizer.ipynb\")\n",
    "path = 'concept_assertion_relation_training_data/beth/txt/'\n",
    "files = os.listdir(path)"
   ]
  },
  {
   "cell_type": "code",
   "execution_count": 17,
   "metadata": {},
   "outputs": [],
   "source": [
    "stop_words = set(stopwords.words('english'))\n",
    "\n",
    "goods = []\n",
    "bads = []\n",
    "for file in files:\n",
    "    #filter\n",
    "    if not 'record-' in file:\n",
    "        continue\n",
    "    fpath = path+file\n",
    "    with open(fpath) as iFile:\n",
    "        for line in iFile:\n",
    "            words = line.split()\n",
    "            for w in words: \n",
    "                if not w in stop_words: \n",
    "                    if w in model:\n",
    "                        goods.append(w)\n",
    "                    else:\n",
    "                        bads.append(w)"
   ]
  },
  {
   "cell_type": "code",
   "execution_count": 22,
   "metadata": {},
   "outputs": [
    {
     "data": {
      "text/plain": [
       "(67593, 2392, 28.25794314381271)"
      ]
     },
     "execution_count": 22,
     "metadata": {},
     "output_type": "execute_result"
    }
   ],
   "source": [
    "len(goods),len(bads),len(goods)/len(bads)"
   ]
  },
  {
   "cell_type": "code",
   "execution_count": null,
   "metadata": {},
   "outputs": [],
   "source": []
  }
 ],
 "metadata": {
  "kernelspec": {
   "display_name": "Python 3",
   "language": "python",
   "name": "python3"
  },
  "language_info": {
   "codemirror_mode": {
    "name": "ipython",
    "version": 3
   },
   "file_extension": ".py",
   "mimetype": "text/x-python",
   "name": "python",
   "nbconvert_exporter": "python",
   "pygments_lexer": "ipython3",
   "version": "3.7.2"
  }
 },
 "nbformat": 4,
 "nbformat_minor": 2
}
