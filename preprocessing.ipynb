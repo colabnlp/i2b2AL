{
 "cells": [
  {
   "cell_type": "code",
   "execution_count": 8,
   "metadata": {},
   "outputs": [],
   "source": [
    "#trying out medical embeddings\n",
    "from gensim.models import KeyedVectors\n",
    "filename = 'wikipedia-pubmed-and-PMC-w2v.bin'\n",
    "model = KeyedVectors.load_word2vec_format(filename, binary=True)"
   ]
  },
  {
   "cell_type": "code",
   "execution_count": 14,
   "metadata": {},
   "outputs": [],
   "source": [
    "import os\n",
    "import io\n",
    "from nltk.corpus import stopwords\n",
    "from nltk.tokenize import word_tokenize\n",
    "\n",
    "osPath = os.path.abspath(\"Tokenizer.ipynb\")\n",
    "path = 'concept_assertion_relation_training_data/beth/txt/'\n",
    "files = os.listdir(path)"
   ]
  },
  {
   "cell_type": "code",
   "execution_count": 17,
   "metadata": {},
   "outputs": [],
   "source": [
    "stop_words = set(stopwords.words('english'))\n",
    "\n",
    "goods = []\n",
    "bads = []\n",
    "for file in files:\n",
    "    #filter\n",
    "    if not 'record-' in file:\n",
    "        continue\n",
    "    fpath = path+file\n",
    "    with open(fpath) as iFile:\n",
    "        for line in iFile:\n",
    "            words = line.split()\n",
    "            for w in words: \n",
    "                if not w in stop_words: \n",
    "                    if w in model:\n",
    "                        goods.append(w)\n",
    "                    else:\n",
    "                        bads.append(w)"
   ]
  },
  {
   "cell_type": "code",
   "execution_count": 22,
   "metadata": {},
   "outputs": [
    {
     "data": {
      "text/plain": [
       "(67593, 2392, 28.25794314381271)"
      ]
     },
     "execution_count": 22,
     "metadata": {},
     "output_type": "execute_result"
    }
   ],
   "source": [
    "len(goods),len(bads),len(goods)/len(bads)"
   ]
  },
  {
   "cell_type": "code",
   "execution_count": 9,
   "metadata": {},
   "outputs": [],
   "source": [
    "import os\n",
    "tpath='concept_assertion_relation_training_data/beth/txt/'\n",
    "cpath='concept_assertion_relation_training_data/beth/concept/'"
   ]
  },
  {
   "cell_type": "code",
   "execution_count": 24,
   "metadata": {},
   "outputs": [],
   "source": [
    "tlist = [ f.split('.')[0] for f in os.listdir(tpath) if len(f.split('.')[0])>0 ]"
   ]
  },
  {
   "cell_type": "code",
   "execution_count": 95,
   "metadata": {},
   "outputs": [],
   "source": [
    "#init\n",
    "allrec = {}\n",
    "for fname in tlist:\n",
    "    f=open(tpath+fname+'.txt')\n",
    "    rec = []\n",
    "    for l in f:\n",
    "        line = []\n",
    "        for w in l.split():\n",
    "            line.append([w.lower(),'o'])\n",
    "        rec.append(line)\n",
    "    allrec[fname] = rec"
   ]
  },
  {
   "cell_type": "code",
   "execution_count": 98,
   "metadata": {},
   "outputs": [
    {
     "name": "stdout",
     "output_type": "stream",
     "text": [
      "record-124 189 0 0\n",
      "record-143 49 1 1\n",
      "record-37 169 15 15\n",
      "record-106 82 2 2\n",
      "record-48 69 3 3\n",
      "record-105 141 0 0\n",
      "record-177 56 5 5\n",
      "record-27 33 4 4\n",
      "record-108 17 0 0\n",
      "record-31 22 0 0\n",
      "record-141 271 2 2\n",
      "record-65 38 0 0\n",
      "record-55 150 4 4\n",
      "record-66 14 0 0\n",
      "record-81 58 1 1\n",
      "record-33 17 0 0\n",
      "record-16 103 24 24\n",
      "record-144 9 0 0\n",
      "record-34 96 3 3\n",
      "record-19 159 1 1\n",
      "record-36 31 4 4\n",
      "record-142 196 0 0\n",
      "record-32 11 0 0\n",
      "record-73 45 3 3\n",
      "record-179 56 1 1\n",
      "record-28 54 9 9\n",
      "record-13 123 10 10\n",
      "record-123 31 4 4\n",
      "record-68 82 1 1\n",
      "record-54 45 3 3\n"
     ]
    }
   ],
   "source": [
    "import re\n",
    "for fname in tlist:\n",
    "    f = open(cpath+fname+'.con')\n",
    "    for i,l in enumerate(f):\n",
    "        p = l.split('||')[0].split('\"')[-1].strip()\n",
    "        no = int(p.split()[0].split(':')[0])-1\n",
    "        s = int(p.split()[0].split(':')[1])\n",
    "        e = int(p.split()[1].split(':')[1])\n",
    "        try: \n",
    "            allrec[fname][no][s][1] = 'b'\n",
    "            for j in (s+1,e):\n",
    "                allrec[fname][no][j][1] = 'i'\n",
    "        except IndexError:\n",
    "            print(fname,no,s,e)\n",
    "            break"
   ]
  },
  {
   "cell_type": "code",
   "execution_count": 97,
   "metadata": {},
   "outputs": [
    {
     "data": {
      "text/plain": [
       "[['cadaveric', 'b'], ['pancreas', 'i'], ['transplantation', 'i'], ['.', 'o']]"
      ]
     },
     "execution_count": 97,
     "metadata": {},
     "output_type": "execute_result"
    }
   ],
   "source": [
    "allrec['record-176'][10]"
   ]
  },
  {
   "cell_type": "code",
   "execution_count": null,
   "metadata": {},
   "outputs": [],
   "source": []
  }
 ],
 "metadata": {
  "kernelspec": {
   "display_name": "Python 3",
   "language": "python",
   "name": "python3"
  },
  "language_info": {
   "codemirror_mode": {
    "name": "ipython",
    "version": 3
   },
   "file_extension": ".py",
   "mimetype": "text/x-python",
   "name": "python",
   "nbconvert_exporter": "python",
   "pygments_lexer": "ipython3",
   "version": "3.7.2"
  }
 },
 "nbformat": 4,
 "nbformat_minor": 2
}
